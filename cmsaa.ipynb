{
 "cells": [
  {
   "cell_type": "markdown",
   "metadata": {},
   "source": [
    "# Computational Model of Spatial Auditory Attention\n",
    "\n",
    "Import libraries and experimental data."
   ]
  },
  {
   "cell_type": "code",
   "execution_count": 1,
   "metadata": {},
   "outputs": [],
   "source": [
    "import matplotlib.pyplot as plt\n",
    "import numpy as np\n",
    "\n",
    "from math import exp, fabs"
   ]
  },
  {
   "cell_type": "markdown",
   "metadata": {},
   "source": [
    "## Attentional Bias\n",
    "\n",
    "We represent attentional bias as a number between 0-1. This value is calculated directly from the experimental data by inverting and normalizing (on a scale from 0-2000ms) the experimental RT values."
   ]
  },
  {
   "cell_type": "code",
   "execution_count": 2,
   "metadata": {},
   "outputs": [],
   "source": [
    "def attentional_bias(expRTs):\n",
    "    bias = []\n",
    "    for rt in expRTs:\n",
    "        bias.append((2000 - rt)/2000)\n",
    "    \n",
    "    return bias\n",
    "\n",
    "\n",
    "#TODO: Add mean RT values from experimental data at each of the five locations\n",
    "expRTs = []\n",
    "\n",
    "# convert RT into attentional bias\n",
    "experimental = attentional_bias(expRTs)"
   ]
  },
  {
   "cell_type": "markdown",
   "metadata": {},
   "source": [
    "## Attentional Gradients\n",
    "\n",
    "We hypothesize that attention can be modeled as a combination of spatial gradients, representing top down and bottom up attention. Top down attention is represented by a 1-dimensional vector called a goal map. Bottom up attention is represented as a 1-dimensional vector called a saliency map. Together these combine to create a total attentional gradient over space, represented as attentional bias (between 0-1). \n",
    "\n",
    "Several different possible shapes were tested as possible representations of the goal map and saliency map.\n",
    "\n",
    "### Goal Maps\n",
    "\n",
    "#### Standard\n",
    "\n",
    "Top-down attentional bias is represented as a gaussian curve."
   ]
  },
  {
   "cell_type": "code",
   "execution_count": 3,
   "metadata": {},
   "outputs": [],
   "source": [
    "def standard_goal_map(x,attended_location,sd,mag):\n",
    "\n",
    "    # standard gaussian equation\n",
    "    return mag * (exp((-fabs(attended_location-x) ** 2.0)/(2.0 * sd ** 2.0)))"
   ]
  },
  {
   "cell_type": "markdown",
   "metadata": {},
   "source": [
    "#### Facilitation and Inhibition"
   ]
  },
  {
   "cell_type": "code",
   "execution_count": 4,
   "metadata": {},
   "outputs": [],
   "source": [
    "def fac_and_inhib_goal_map(x,attended_location,sd,mag):\n",
    "    \n",
    "    #TODO: Fill this in\n",
    "    return 0"
   ]
  },
  {
   "cell_type": "markdown",
   "metadata": {},
   "source": [
    "#### Constant"
   ]
  },
  {
   "cell_type": "code",
   "execution_count": 5,
   "metadata": {},
   "outputs": [],
   "source": [
    "def constant_goal_map(value):\n",
    "    return value"
   ]
  },
  {
   "cell_type": "markdown",
   "metadata": {},
   "source": [
    "### Saliency Maps \n",
    "\n",
    "#### Standard\n",
    "\n",
    "Bottom up attentional bias is represented as an inverted gaussian curve."
   ]
  },
  {
   "cell_type": "code",
   "execution_count": 6,
   "metadata": {},
   "outputs": [],
   "source": [
    "def standard_saliency_map(x,attended_location,sd,mag):\n",
    "    \n",
    "    # inverted gaussian equation\n",
    "    return mag - mag*(exp((-fabs(attended_location-x) ** 2.0)/(2.0 * sd ** 2.0)))"
   ]
  },
  {
   "cell_type": "markdown",
   "metadata": {},
   "source": [
    "#### Constant"
   ]
  },
  {
   "cell_type": "code",
   "execution_count": 7,
   "metadata": {},
   "outputs": [],
   "source": [
    "def constant_saliency_map(value):\n",
    "    \n",
    "    #returns a constant value\n",
    "    return value"
   ]
  },
  {
   "cell_type": "markdown",
   "metadata": {},
   "source": [
    "### Priority Maps\n",
    "\n",
    "Two types of priority maps were tested. The first adds the goal map and saliency map together. The second applies weights (between 0-1) to the goal map and saliency map before adding them together."
   ]
  },
  {
   "cell_type": "markdown",
   "metadata": {},
   "source": [
    "#### Additive"
   ]
  },
  {
   "cell_type": "code",
   "execution_count": 8,
   "metadata": {},
   "outputs": [],
   "source": [
    "def additive_priority_map(gm,sm):\n",
    "    return gm + sm"
   ]
  },
  {
   "cell_type": "markdown",
   "metadata": {},
   "source": [
    "#### Weighted"
   ]
  },
  {
   "cell_type": "code",
   "execution_count": 9,
   "metadata": {},
   "outputs": [],
   "source": [
    "def weighted_priority_map(gm_weight,gm,sm_weight,sm):\n",
    "    return gm_weight * gm + sm_weight * sm"
   ]
  },
  {
   "cell_type": "markdown",
   "metadata": {},
   "source": [
    "## Model Plotting\n",
    "\n",
    "Each model is plotted showing the goal map, saliency and priority map, given the model parameters. The attentional bias of the experimental data is also plotted."
   ]
  },
  {
   "cell_type": "code",
   "execution_count": 10,
   "metadata": {},
   "outputs": [],
   "source": [
    "def model_plot(gm,sm,pm,experimental):\n",
    "    \n",
    "    #initialize an array of the degrees we are modeling (-90,90)\n",
    "    degrees = np.arange(-90,90)\n",
    "    \n",
    "    #TODO: plot experimental data\n",
    "    \n",
    "    plt.plot(degrees,gm)\n",
    "    plt.plot(degrees,sm)\n",
    "    plt.plot(degrees,pm)\n",
    "    plt.scatter([-90,-45,0,44,89],experimental)\n",
    "    plt.ylim((0,1))\n",
    "    plt.xlim((-90,90))\n",
    "    plt.show()"
   ]
  },
  {
   "cell_type": "markdown",
   "metadata": {},
   "source": [
    "## Model Error Calculation\n",
    "\n",
    "The error is calculated using the sum of squared errors between the attentional bias of the behavioral data and the model at each of the five standard locations."
   ]
  },
  {
   "cell_type": "code",
   "execution_count": 11,
   "metadata": {},
   "outputs": [],
   "source": [
    "def model_error(pm,experimental):\n",
    "    \n",
    "    error = 0\n",
    "    error = error + (experimental[0] - pm[0]) ** 2\n",
    "    error = error + (experimental[1] - pm[44]) ** 2\n",
    "    error = error + (experimental[2] - pm[89]) ** 2\n",
    "    error = error + (experimental[3] - pm[134]) ** 2\n",
    "    error = error + (experimental[4] - pm[179]) ** 2\n",
    "        \n",
    "    return error"
   ]
  },
  {
   "cell_type": "markdown",
   "metadata": {},
   "source": [
    "## Model Testing\n",
    "\n",
    "Using different combinations of the above goal, saliency and priority map functions, we tested several different versions of the model against the attentional bias of the experimental data and compared error values."
   ]
  },
  {
   "cell_type": "code",
   "execution_count": 12,
   "metadata": {},
   "outputs": [],
   "source": [
    "\n",
    "experimental = {\n",
    "    '-90':[0.75672619,0.72839881,0.727428571,0.734345238,0.748416667],\n",
    "    '0':[0.741428571,0.731446429,0.755886905,0.731505952,0.743827381],\n",
    "    '90':[0.746065476,0.735571429,0.742190476,0.737946429,0.750160714]}"
   ]
  },
  {
   "cell_type": "markdown",
   "metadata": {},
   "source": [
    "### Stochastic Local Search\n",
    "\n",
    "Parameters for each model were found by running a stochastic local search to find parameters that minimized the error between the model and the experimental data."
   ]
  },
  {
   "cell_type": "code",
   "execution_count": 13,
   "metadata": {},
   "outputs": [],
   "source": [
    "def local_search(gm_mag, sm_mag, gm_sd, sm_sd,current_fit, best_fit):\n",
    "    #TODO: Fill in stochastic local search\n",
    "    \n",
    "    # generate neighborhood from starting parameters. Each neighbor in neighborhood differs in 1 parameter by each step within \n",
    "    # 10% of current parameter value\n",
    "    \n",
    "    #\n",
    "    # choose parameters that generate most improved fit\n",
    "    #\n",
    "    # if nothing improved for < 100 iterations, choose random neighbor as new parameter set and try again\n",
    "    #\n",
    "    # if nothing improved for 100 iterations, random restart to parameter set within 50% of current parameter values\n",
    "    return 0"
   ]
  },
  {
   "cell_type": "markdown",
   "metadata": {},
   "source": [
    "### GLFree Model\n",
    "\n",
    "The standard goal map and standard saliency map are combined using the additive priority map. The standard deviations and magnitudes of the gaussian functions used in each map are learned using stochastic local search."
   ]
  },
  {
   "cell_type": "code",
   "execution_count": 14,
   "metadata": {},
   "outputs": [],
   "source": [
    "def glfree_model(attended_location,gm_sd,gm_mag,sm_sd,sm_mag,experimental):\n",
    "\n",
    "    #initialize goal map and saliency map each to a 1-dimentional array of size 180.\n",
    "    gm = np.zeros(180)\n",
    "    sm = np.zeros(180)\n",
    "\n",
    "    #initialize an array of the degrees we are modeling (-90,90)\n",
    "    degrees = np.arange(-90,90)\n",
    "\n",
    "    for i in range(len(degrees)):\n",
    "        gm[i] = standard_goal_map(degrees[i],attended_location,gm_sd,gm_mag)\n",
    "        sm[i] = standard_saliency_map(degrees[i],attended_location,sm_sd,sm_mag)\n",
    "\n",
    "    pm = additive_priority_map(gm,sm)\n",
    "    \n",
    "    model_plot(gm,sm,pm,experimental)\n",
    "    \n",
    "    print(\"Error: \" + str(model_error(pm,experimental)))"
   ]
  },
  {
   "cell_type": "markdown",
   "metadata": {},
   "source": [
    "### Results\n",
    "\n",
    "The parameters below were learned using a stochastic local search.\n",
    "\n",
    "#### Standard Location: 0"
   ]
  },
  {
   "cell_type": "code",
   "execution_count": 15,
   "metadata": {
    "scrolled": true
   },
   "outputs": [
    {
     "data": {
      "image/png": "[encoded data removed]",
      "text/plain": [
       "<matplotlib.figure.Figure at 0x11043bcc0>"
      ]
     },
     "metadata": {},
     "output_type": "display_data"
    },
    {
     "name": "stdout",
     "output_type": "stream",
     "text": [
      "Error: 1.283179399e-05\n"
     ]
    }
   ],
   "source": [
    "# attended location\n",
    "attended_location = 0\n",
    "    \n",
    "# parameters\n",
    "gm_sd = 12.8800\n",
    "gm_mag = 0.7576\n",
    "sm_sd = 15.6139\n",
    "sm_mag = 0.7428\n",
    "\n",
    "glfree_model(attended_location, gm_sd, gm_mag, sm_sd, sm_mag,experimental['0'])\n"
   ]
  },
  {
   "cell_type": "markdown",
   "metadata": {},
   "source": [
    "#### Standard Location: 90"
   ]
  },
  {
   "cell_type": "code",
   "execution_count": 16,
   "metadata": {},
   "outputs": [
    {
     "data": {
      "image/png": "[encoded data removed]",
      "text/plain": [
       "<matplotlib.figure.Figure at 0x10e68f4e0>"
      ]
     },
     "metadata": {},
     "output_type": "display_data"
    },
    {
     "name": "stdout",
     "output_type": "stream",
     "text": [
      "Error: 5.64713098851e-05\n"
     ]
    }
   ],
   "source": [
    "# attended location\n",
    "attended_location = 90\n",
    "    \n",
    "# parameters\n",
    "gm_sd = 4.9600\n",
    "gm_mag = 0.7639\n",
    "sm_sd = 13.8700\n",
    "sm_mag = 0.7412\n",
    "\n",
    "\n",
    "glfree_model(attended_location, gm_sd, gm_mag, sm_sd, sm_mag,experimental['90'])"
   ]
  },
  {
   "cell_type": "markdown",
   "metadata": {},
   "source": [
    "#### Standard Location: -90"
   ]
  },
  {
   "cell_type": "code",
   "execution_count": 17,
   "metadata": {
    "scrolled": true
   },
   "outputs": [
    {
     "data": {
      "image/png": "[encoded data removed]",
      "text/plain": [
       "<matplotlib.figure.Figure at 0x1104cf198>"
      ]
     },
     "metadata": {},
     "output_type": "display_data"
    },
    {
     "name": "stdout",
     "output_type": "stream",
     "text": [
      "Error: 0.000527729784302\n"
     ]
    }
   ],
   "source": [
    "# attended location\n",
    "attended_location = -90\n",
    "    \n",
    "# parameters\n",
    "gm_sd = 40.2779\n",
    "gm_mag = 0.7463\n",
    "sm_sd = 40.2779\n",
    "sm_mag = 0.7341\n",
    "\n",
    "glfree_model(attended_location, gm_sd, gm_mag, sm_sd, sm_mag,experimental['-90'])"
   ]
  }
 ],
 "metadata": {
  "kernelspec": {
   "display_name": "Python 3",
   "language": "python",
   "name": "python3"
  },
  "language_info": {
   "codemirror_mode": {
    "name": "ipython",
    "version": 3
   },
   "file_extension": ".py",
   "mimetype": "text/x-python",
   "name": "python",
   "nbconvert_exporter": "python",
   "pygments_lexer": "ipython3",
   "version": "3.6.3"
  }
 },
 "nbformat": 4,
 "nbformat_minor": 2
}
